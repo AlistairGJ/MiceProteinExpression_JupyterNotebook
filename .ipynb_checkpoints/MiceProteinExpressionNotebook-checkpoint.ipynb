{
 "cells": [
  {
   "cell_type": "markdown",
   "metadata": {},
   "source": [
    "# Mice Protein Expression Data Set\n",
    "## UCI Machine Learning Repository\n",
    "## Center for Machine Learning and Intelligent Systems"
   ]
  },
  {
   "cell_type": "markdown",
   "metadata": {
    "collapsed": true
   },
   "source": [
    "### Abstract"
   ]
  },
  {
   "cell_type": "markdown",
   "metadata": {},
   "source": [
    "<div style=\"text-align: justify; LINE-HEIGHT:20px\"> The data file ‘Data_Cortex_Nuclear.xls’ was imported into the interactive shell iPython as filename 'AllProtein'. The libraries pandas, matplotlib and numpy were imported as pd, plt and np respectively. Data was then checked for type, sample rows column names and size (found 1080 by 82). Data cleaning was initially performed by selecting for 11 target protein expression attributes, which had previously been found to have high correlations with learning outcomes. The Boolean categorical labels Treatment, Genotype and Behavior were then replaced with binary Boolean values 0 or 1, and the attribute label Class was generated with the resultant binary Boolean labels to produce 8 unique integer Class labels. A scatter matrix of the uncleaned data was checked to provide direction for analysis, followed by removal of outliers and NaN values. Outliers were identified as falling out a 99th percentile range from any raw protein expression data column. During outlier analysis mouse 3484 was identified as having over 60 outlier values, and was removed from the data set. The outliers and NaN values were then filled with a Class mean.<br><br> Following cleaning the data was visualised through a variety of plots to help gain understanding and insight. The data was then modelled with a K-Nearest Neighbour Classification and a Decision Tree Model. The K-Nearest Model worked best with 5 neighbours, distance weighting and Manhattan distance (p = 1). The Decision Tree Models had an average accuracy ranging between 0.79 to 0.98, indicating extremely good predictive capability.</div>"
   ]
  },
  {
   "cell_type": "markdown",
   "metadata": {},
   "source": [
    "### Introduction"
   ]
  },
  {
   "cell_type": "markdown",
   "metadata": {},
   "source": [
    "<div style=\"text-align: justify; LINE-HEIGHT:20px\"> Add text </div>"
   ]
  },
  {
   "cell_type": "markdown",
   "metadata": {},
   "source": [
    "Add table 1"
   ]
  },
  {
   "cell_type": "markdown",
   "metadata": {},
   "source": [
    "Add figure 1"
   ]
  },
  {
   "cell_type": "markdown",
   "metadata": {},
   "source": [
    "### Aim"
   ]
  },
  {
   "cell_type": "markdown",
   "metadata": {},
   "source": [
    "<div style=\"text-align: justify; LINE-HEIGHT:20px\"> Add text </div>"
   ]
  },
  {
   "cell_type": "markdown",
   "metadata": {},
   "source": [
    "### Data Imporation and Exploration"
   ]
  },
  {
   "cell_type": "markdown",
   "metadata": {},
   "source": [
    "<div style=\"text-align: justify; LINE-HEIGHT:20px\">The data analysis toolkit pandas (McKinney 2010), the scientific computing package numpy, the 2D plotting library matplotlib (Hunter 2007) and the library for opening URLs urllib2 (core python module) were imported into IPython (Perez & Granger 2007) as pd, np, plt and urllib2 respectively. The Excel file ‘Data_Cortex_Nuclear.xls’ was imported from UCI’s machine learning repository (http://archive.ics.uci.edu/ml/) IPython and named “allProtein”.</div>"
   ]
  },
  {
   "cell_type": "code",
   "execution_count": null,
   "metadata": {
    "collapsed": true
   },
   "outputs": [],
   "source": [
    "# Importing the libraries\n",
    "import pandas as pd\n",
    "import numpy as np\n",
    "import matplotlib.pyplot as plt\n",
    "import matplotlib\n",
    "matplotlib.style.use('ggplot')\n",
    "import urllib2"
   ]
  },
  {
   "cell_type": "code",
   "execution_count": null,
   "metadata": {
    "collapsed": true
   },
   "outputs": [],
   "source": [
    "# Importing the dataset\n",
    "url = \"https://archive.ics.uci.edu/ml/machine-learning-databases/00342/Data_Cortex_Nuclear.xls\"\n",
    "proteinExpression = pd.read_excel(urllib2.urlopen(url), headers=0)"
   ]
  },
  {
   "cell_type": "code",
   "execution_count": null,
   "metadata": {
    "collapsed": false,
    "scrolled": true
   },
   "outputs": [],
   "source": [
    "# Checking the column (attribute) names - exploring data with a list\n",
    "columnIDlist = proteinExpression.columns.tolist()\n",
    "print columnIDlist"
   ]
  },
  {
   "cell_type": "code",
   "execution_count": null,
   "metadata": {
    "collapsed": false,
    "scrolled": true
   },
   "outputs": [],
   "source": [
    "# Confirming the data types (exploration) - series created and counted\n",
    "nativeDataTypes = proteinExpression.dtypes\n",
    "countDataTypes = nativeDataTypes.value_counts()\n",
    "print countDataTypes"
   ]
  },
  {
   "cell_type": "code",
   "execution_count": null,
   "metadata": {
    "collapsed": false
   },
   "outputs": [],
   "source": [
    "# Checking the value counts of categorical columns\n",
    "proteinExpression[['Genotype', 'Treatment', 'Behavior', 'class']].apply(pd.Series.value_counts)"
   ]
  },
  {
   "cell_type": "code",
   "execution_count": null,
   "metadata": {
    "collapsed": true
   },
   "outputs": [],
   "source": [
    "# Rename class column with uppercase \n",
    "proteinExpression.rename(columns = {'class': 'Class'}, inplace = True)"
   ]
  },
  {
   "cell_type": "markdown",
   "metadata": {},
   "source": [
    "<div style=\"text-align: justify; LINE-HEIGHT:20px\">The class .describe was used to check the data was successfully imported in the previous step. The output was as expected, containing the columns MouseID, Protein Expression (77 columns), Genotype, Treatment, Behavior and class, as described in the literature (Higuera 2015). The .describe class also gave us the size of data [1080 rows × 82 columns], which was consistent with the description of “Mice Protein Expression Data Set” (Higuera 2015). Due to the size of the data set some columns and rows were not displayed, so the class .columns was used to check the attributes had been imported as expected. The class .dtypes was then used to check the data was imported as the correct types. The objects Genotype, Treatment, Behavior and class were checked with .value_counts() to look for missing values, typos and assess if these were Boolean, with the results in table 2.</div>"
   ]
  },
  {
   "cell_type": "code",
   "execution_count": null,
   "metadata": {
    "collapsed": true
   },
   "outputs": [],
   "source": [
    "CLEAN UP TEXT"
   ]
  },
  {
   "cell_type": "markdown",
   "metadata": {},
   "source": [
    "<div style=\"text-align: justify; LINE-HEIGHT:20px\">The output above shows no missing values, no typos and shows Genotype, Treatment and Behavior are Boolean. As noted in table 2, the MouseID takes the form tag_n, where n is the number of measurements made. It was noted that the column class contained a lower-case c, which was replaced with an upper-case C and then checked, as below.</div>"
   ]
  },
  {
   "cell_type": "markdown",
   "metadata": {},
   "source": [
    "<div style=\"text-align: justify; LINE-HEIGHT:20px\"> Add text </div>\n",
    "<div style=\"text-align: justify; LINE-HEIGHT:20px\"> Add text </div>\n",
    "<div style=\"text-align: justify; LINE-HEIGHT:20px\"> Add text </div>"
   ]
  },
  {
   "cell_type": "code",
   "execution_count": null,
   "metadata": {
    "collapsed": true
   },
   "outputs": [],
   "source": [
    "# Create new data set with desired proteins\n",
    "targetProteins = proteinExpression[['MouseID', 'BRAF_N', 'pERK_N', 'S6_N', 'pGSK3B_N', \n",
    "                        'CaNA_N', 'CDK5_N', 'pNUMB_N', 'DYRK1A_N', 'ITSN1_N', 'SOD1_N', \n",
    "                        'GFAP_N', 'Genotype', 'Treatment', 'Behavior', 'Class']]"
   ]
  },
  {
   "cell_type": "code",
   "execution_count": null,
   "metadata": {
    "collapsed": false
   },
   "outputs": [],
   "source": [
    "# Stats check\n",
    "targetProteinsStats = targetProteins.describe()\n",
    "print targetProteinsStats"
   ]
  },
  {
   "cell_type": "code",
   "execution_count": null,
   "metadata": {
    "collapsed": false
   },
   "outputs": [],
   "source": [
    "# Checking for missing values\n",
    "missingValueCheck = targetProteins[['BRAF_N', 'pERK_N', 'S6_N', 'pGSK3B_N', \n",
    "                        'CaNA_N', 'CDK5_N', 'pNUMB_N', 'DYRK1A_N', \n",
    "                        'ITSN1_N', 'SOD1_N', 'GFAP_N']].isnull()\n",
    "missingValueList = missingValueCheck.apply(pd.Series.value_counts)\n",
    "print missingValueList"
   ]
  },
  {
   "cell_type": "code",
   "execution_count": null,
   "metadata": {
    "collapsed": true
   },
   "outputs": [],
   "source": [
    "# Housekeeping\n",
    "pd.options.mode.chained_assignment = None"
   ]
  },
  {
   "cell_type": "code",
   "execution_count": null,
   "metadata": {
    "collapsed": true
   },
   "outputs": [],
   "source": [
    "# Removing string categories\n",
    "targetProteins['Genotype'].replace('Control', '1', inplace=True)\n",
    "targetProteins['Genotype'].replace('Ts65Dn', '0', inplace=True)\n",
    "targetProteins['Genotype'] = targetProteins['Genotype'].astype(int)\n",
    "targetProteins['Behavior'].replace('C/S', '1', inplace=True)\n",
    "targetProteins['Behavior'].replace('S/C', '0', inplace=True)\n",
    "targetProteins['Behavior'] = targetProteins['Behavior'].astype(int)\n",
    "targetProteins['Treatment'].replace('Saline', '1', inplace=True)\n",
    "targetProteins['Treatment'].replace('Memantine', '0', inplace=True)\n",
    "targetProteins['Treatment'] = targetProteins['Treatment'].astype(int)"
   ]
  },
  {
   "cell_type": "code",
   "execution_count": null,
   "metadata": {
    "collapsed": false
   },
   "outputs": [],
   "source": [
    "# Confirming alteration\n",
    "targetProteins[['Behavior', 'Genotype', 'Treatment']].apply(pd.Series.value_counts)"
   ]
  },
  {
   "cell_type": "code",
   "execution_count": null,
   "metadata": {
    "collapsed": true
   },
   "outputs": [],
   "source": [
    "# Converting binary to unique identifying numbers\n",
    "def change_class(row):\n",
    "    row['Class'] = row['Genotype'] * 4 + row['Behavior'] * 2 + row['Treatment']\n",
    "    return row"
   ]
  },
  {
   "cell_type": "code",
   "execution_count": null,
   "metadata": {
    "collapsed": true
   },
   "outputs": [],
   "source": [
    "# Applying above change to target proteins data\n",
    "targetProteins = targetProteins.apply(change_class, axis=1)"
   ]
  },
  {
   "cell_type": "code",
   "execution_count": null,
   "metadata": {
    "collapsed": false
   },
   "outputs": [],
   "source": [
    "# Checking value counts\n",
    "targetProteins['Class'].value_counts()"
   ]
  },
  {
   "cell_type": "code",
   "execution_count": null,
   "metadata": {
    "collapsed": false
   },
   "outputs": [],
   "source": [
    "# Will give back a normalized (mean = 0) box plot with outliers\n",
    "targetProteinsBoxPlot = pd.DataFrame(np.random.randn(1080, 11), columns=['BRAF_N', 'pERK_N', 'S6_N', 'pGSK3B_N', \n",
    "                        'CaNA_N', 'CDK5_N', 'pNUMB_N', 'DYRK1A_N', 'ITSN1_N', 'SOD1_N', 'GFAP_N'])\n",
    "targetProteinsBoxPlot.boxplot(figsize=(4,4), vert=False)"
   ]
  },
  {
   "cell_type": "code",
   "execution_count": null,
   "metadata": {
    "collapsed": false,
    "scrolled": false
   },
   "outputs": [],
   "source": [
    "# GIVE TITLE    \n",
    "from pandas.tools.plotting import scatter_matrix\n",
    "scatterProteins = targetProteins[['MouseID', 'BRAF_N', 'pERK_N', 'S6_N', \n",
    "                                  'pGSK3B_N', 'CaNA_N', 'CDK5_N', 'pNUMB_N', \n",
    "                                  'DYRK1A_N', 'ITSN1_N', 'SOD1_N', 'GFAP_N']]\n",
    "scatter_matrix(scatterProteins, alpha=0.2,figsize=(16,16),diagonal='hist')\n",
    "plt.show()\n",
    "# Update diagonal\n",
    "# Update title\n",
    "# Alter cell padding / visualisation?"
   ]
  },
  {
   "cell_type": "code",
   "execution_count": null,
   "metadata": {
    "collapsed": true
   },
   "outputs": [],
   "source": [
    "# ADD DESCRIPTION / TITLE\n",
    "proteinNames = ['BRAF_N', 'pERK_N', 'S6_N', 'pGSK3B_N', 'CaNA_N', 'CDK5_N', 'pNUMB_N', \n",
    "                'DYRK1A_N', 'ITSN1_N', 'SOD1_N', 'GFAP_N']\n",
    "miceIDs = proteinExpression['MouseID'].str.split('_').apply(pd.Series, 1)[0].unique()\n",
    "MakeMouseID = proteinExpression['MouseID'].str.split('_').apply(pd.Series, 1)[0].unique()"
   ]
  },
  {
   "cell_type": "code",
   "execution_count": null,
   "metadata": {
    "collapsed": true
   },
   "outputs": [],
   "source": [
    "# DESCRIPTION + 'Where SD = Standard Deviation'\n",
    "proteinRows = []\n",
    "for proteinName in proteinNames:\n",
    "    count = targetProteins[proteinName].count()\n",
    "    mean = targetProteins[proteinName].mean()\n",
    "    sd = targetProteins[proteinName].std()\n",
    "    minusThreeSD = mean - (3 * sd)\n",
    "    minusTwoSD = mean - (2 * sd)\n",
    "    twoSD = mean + (2 * sd)\n",
    "    threeSD = mean + (3 * sd)\n",
    "    outliers = targetProteins.query(proteinName + ' < ' + str(minusThreeSD) + \n",
    "                                    ' | ' + proteinName + ' > ' + str(threeSD))\n",
    "\n",
    "    row = {'Protein': proteinName,'Count': count,'Mean': mean,'SD': sd,\n",
    "           '-3SD': minusThreeSD,'-2SD': minusTwoSD,'+2SD': twoSD,\n",
    "           '+3SD': threeSD,'Outliers': outliers[proteinName].count()}\n",
    "    proteinRows.append(row)\n",
    "\n",
    "nnPctRangeDF = pd.DataFrame(proteinRows, index=proteinNames, \n",
    "                            columns=['Count', 'Mean', 'SD', '-3SD', \n",
    "                                     '-2SD', '+2SD', '+3SD', 'Outliers'])\n",
    "#nnPctRangeDF shows us the number of outliers count for each protein"
   ]
  },
  {
   "cell_type": "code",
   "execution_count": null,
   "metadata": {
    "collapsed": false
   },
   "outputs": [],
   "source": [
    "# Add description\n",
    "print nnPctRangeDF"
   ]
  },
  {
   "cell_type": "code",
   "execution_count": null,
   "metadata": {
    "collapsed": true
   },
   "outputs": [],
   "source": [
    "# DESCRIPTION + 'Where SD = Standard Deviation'\n",
    "outlierMiceRows = []\n",
    "for proteinName in proteinNames:\n",
    "\n",
    "    mean = targetProteins[proteinName].mean()\n",
    "    sd = targetProteins[proteinName].std()\n",
    "    minusThreeSD = mean - (3 * sd)\n",
    "    threeSD = mean + (3 * sd)\n",
    "    outliers = targetProteins.query(proteinName + ' < ' + str(minusThreeSD) + \n",
    "                                    ' | ' + proteinName + ' > ' + str(threeSD))\n",
    "\n",
    "    if outliers.empty:\n",
    "        row = {'Protein': proteinName,'MouseID': '-','# Instances': '-','Genotype': '-',\n",
    "           'Treatment': '-','Behavior': '-','Class': '-'}\n",
    "        outlierMiceRows.append(row)\n",
    "    else:\n",
    "        for mouseID in miceIDs:\n",
    "            mouseOutlierRows = outliers[outliers['MouseID'].str.contains(mouseID)]\n",
    "            if not mouseOutlierRows.empty:\n",
    "                    row = {'Protein': proteinName,'MouseID': mouseID,\n",
    "                           '# Instances': len(mouseOutlierRows),\n",
    "                           'Genotype': mouseOutlierRows['Genotype'].iloc[0],\n",
    "                           'Treatment': mouseOutlierRows['Treatment'].iloc[0],\n",
    "                           'Behavior': mouseOutlierRows['Behavior'].iloc[0],\n",
    "                           'Class': mouseOutlierRows['Class'].iloc[0]}\n",
    "                    outlierMiceRows.append(row)\n",
    "\n",
    "outliersDF = pd.DataFrame(outlierMiceRows, \n",
    "                          columns=['Protein', 'MouseID','# Instances', \n",
    "                                   'Genotype','Treatment', 'Behavior', 'Class'])"
   ]
  },
  {
   "cell_type": "code",
   "execution_count": null,
   "metadata": {
    "collapsed": false,
    "scrolled": true
   },
   "outputs": [],
   "source": [
    "# Add description\n",
    "print outliersDF"
   ]
  },
  {
   "cell_type": "code",
   "execution_count": null,
   "metadata": {
    "collapsed": true
   },
   "outputs": [],
   "source": [
    "# Stripping all outliers back to NaN\n",
    "def make_nans(row):\n",
    "    for proteinName in proteinNames:\n",
    "        mean = targetProteins[proteinName].mean()\n",
    "        sd = targetProteins[proteinName].std()\n",
    "        minusThreeSD = mean - (3 * sd)\n",
    "        threeSD = mean + (3 * sd)\n",
    "    \n",
    "        if row[proteinName] < minusThreeSD or row[proteinName] > threeSD:\n",
    "            row[proteinName] = None\n",
    "        return row\n",
    "targetProteins = targetProteins.apply(make_nans, axis=1)"
   ]
  },
  {
   "cell_type": "code",
   "execution_count": null,
   "metadata": {
    "collapsed": false
   },
   "outputs": [],
   "source": [
    "# Checking for missing values - native outliers stripped to NaN\n",
    "missingValueCheck = targetProteins[['BRAF_N', 'pERK_N', 'S6_N', 'pGSK3B_N', \n",
    "                        'CaNA_N', 'CDK5_N', 'pNUMB_N', 'DYRK1A_N', \n",
    "                        'ITSN1_N', 'SOD1_N', 'GFAP_N']].isnull()\n",
    "missingValueList = missingValueCheck.apply(pd.Series.value_counts)\n",
    "print missingValueList"
   ]
  },
  {
   "cell_type": "markdown",
   "metadata": {},
   "source": [
    "Discuss finding above..."
   ]
  },
  {
   "cell_type": "code",
   "execution_count": null,
   "metadata": {
    "collapsed": true
   },
   "outputs": [],
   "source": [
    "# Removal of mouse 3484_n\n",
    "targetProteins = targetProteins[~targetProteins['MouseID'].str.contains('3484')]\n",
    "indexOfMouse = np.where(miceIDs=='3484')[0]\n",
    "miceIDs = np.delete(miceIDs, indexOfMouse)"
   ]
  },
  {
   "cell_type": "code",
   "execution_count": null,
   "metadata": {
    "collapsed": true
   },
   "outputs": [],
   "source": [
    "# Convert all remaining NaNs to the average value of that protein for that class\n",
    "def make_averages(row):\n",
    "    for proteinName in proteinNames:\n",
    "        if np.isnan(row[proteinName]):\n",
    "            average = targetProteins[targetProteins.Class == row['Class']][proteinName].mean()\n",
    "            row[proteinName] = average\n",
    "    return row\n",
    "targetProteins = targetProteins.apply(make_averages, axis=1)"
   ]
  },
  {
   "cell_type": "code",
   "execution_count": null,
   "metadata": {
    "collapsed": false
   },
   "outputs": [],
   "source": [
    "# Checking for missing values\n",
    "missingValueCheck = targetProteins[['BRAF_N', 'pERK_N', 'S6_N', 'pGSK3B_N', \n",
    "                        'CaNA_N', 'CDK5_N', 'pNUMB_N', 'DYRK1A_N', \n",
    "                        'ITSN1_N', 'SOD1_N', 'GFAP_N']].isnull()\n",
    "missingValueList = missingValueCheck.apply(pd.Series.value_counts)\n",
    "print missingValueList"
   ]
  },
  {
   "cell_type": "code",
   "execution_count": null,
   "metadata": {
    "collapsed": false,
    "scrolled": true
   },
   "outputs": [],
   "source": [
    "# ADD TITLE\n",
    "scatterProteins = targetProteins[['MouseID', 'BRAF_N', 'pERK_N', 'S6_N', 'pGSK3B_N', \n",
    "                                  'CaNA_N', 'CDK5_N', 'pNUMB_N', 'DYRK1A_N', 'ITSN1_N', \n",
    "                                  'SOD1_N', 'GFAP_N']]\n",
    "scatter_matrix(scatterProteins, alpha=0.2,figsize=(16,16),diagonal='hist')\n",
    "plt.show()\n",
    "# Apply changes as above"
   ]
  },
  {
   "cell_type": "code",
   "execution_count": null,
   "metadata": {
    "collapsed": true
   },
   "outputs": [],
   "source": [
    "# Write this dataframe to a CSV file for later use\n",
    "targetProteins.to_csv(\"finalData.csv\")"
   ]
  },
  {
   "cell_type": "code",
   "execution_count": null,
   "metadata": {
    "collapsed": true
   },
   "outputs": [],
   "source": []
  },
  {
   "cell_type": "code",
   "execution_count": null,
   "metadata": {
    "collapsed": true
   },
   "outputs": [],
   "source": []
  },
  {
   "cell_type": "code",
   "execution_count": null,
   "metadata": {
    "collapsed": true
   },
   "outputs": [],
   "source": []
  },
  {
   "cell_type": "code",
   "execution_count": null,
   "metadata": {
    "collapsed": true
   },
   "outputs": [],
   "source": []
  },
  {
   "cell_type": "code",
   "execution_count": null,
   "metadata": {
    "collapsed": true
   },
   "outputs": [],
   "source": []
  }
 ],
 "metadata": {
  "celltoolbar": "Raw Cell Format",
  "kernelspec": {
   "display_name": "Python 2 (Spyder)",
   "language": "python2",
   "name": "python2"
  },
  "language_info": {
   "codemirror_mode": {
    "name": "ipython",
    "version": 2
   },
   "file_extension": ".py",
   "mimetype": "text/x-python",
   "name": "python",
   "nbconvert_exporter": "python",
   "pygments_lexer": "ipython2",
   "version": "2.7.11"
  }
 },
 "nbformat": 4,
 "nbformat_minor": 2
}
